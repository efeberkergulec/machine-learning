{
 "cells": [
  {
   "cell_type": "code",
   "execution_count": 48,
   "metadata": {},
   "outputs": [],
   "source": [
    "### ASSIGNMENT 1 ###\n",
    "# QUESTION 2\n",
    "# Efe Berk ERGULEC\n",
    "''' Importing Libraries. I used them during my homework. '''\n",
    "import operator\n",
    "import math\n",
    "import numpy as np\n",
    "import matplotlib.pyplot as plot\n",
    "from sklearn.linear_model import LinearRegression\n",
    "from sklearn.metrics import mean_squared_error, r2_score\n",
    "from sklearn.preprocessing import PolynomialFeatures"
   ]
  },
  {
   "cell_type": "code",
   "execution_count": 49,
   "metadata": {},
   "outputs": [],
   "source": [
    "# Implementation of training number m, features x, epsilon eps, \n",
    "# query point q and prediction y. This is our simple function.\n",
    "m = 100\n",
    "x = np.random.rand(m,1)\n",
    "eps = np.random.randn(m,1)\n",
    "y = np.sin(2 * np.pi * x) + eps\n",
    "x_bias = np.c_[np.ones((100,1)),x] # add x0=1 to each instance"
   ]
  },
  {
   "cell_type": "code",
   "execution_count": 50,
   "metadata": {},
   "outputs": [
    {
     "data": {
      "text/plain": [
       "(array([1.25765465]), array([[-2.07906692]]))"
      ]
     },
     "execution_count": 50,
     "metadata": {},
     "output_type": "execute_result"
    }
   ],
   "source": [
    "# I add this part to compare difference between linear regression with predefined functions and Normal Equation.\n",
    "from sklearn.linear_model import LinearRegression\n",
    "lin_reg=LinearRegression()\n",
    "lin_reg.fit(x,y)\n",
    "lin_reg.intercept_, lin_reg.coef_"
   ]
  },
  {
   "cell_type": "code",
   "execution_count": 51,
   "metadata": {},
   "outputs": [
    {
     "data": {
      "image/png": "[encoded data removed]",
      "text/plain": [
       "<Figure size 432x288 with 1 Axes>"
      ]
     },
     "metadata": {},
     "output_type": "display_data"
    }
   ],
   "source": [
    "# Part I: Unweighted Linear Regression\n",
    "# Theta=(X_T*X)^-1*X_T*y\n",
    "def get_best_param(x, y):  \n",
    "    X_transpose = x.T  \n",
    "    best_params = np.linalg.inv(X_transpose.dot(x)).dot(X_transpose).dot(y)   \n",
    "    return best_params # returns a list\n",
    "\n",
    "X_bias = np.c_[np.ones((100, 1)),x] # set bias term to 1 for each sample \n",
    "\n",
    "theta = get_best_param(X_bias, y)  \n",
    "\n",
    "y_pred = np.dot(X_bias,theta) # Defines θTx\n",
    "\n",
    "plot.plot(x,y,'b.')\n",
    "plot.plot(x, y_pred, color='r', label='Unweighted Linear Regression')\n",
    "plot.legend()\n",
    "plot.title('Experiment #5')\n",
    "plot.show()"
   ]
  },
  {
   "cell_type": "code",
   "execution_count": 52,
   "metadata": {},
   "outputs": [
    {
     "data": {
      "text/plain": [
       "array([[ 1.35318169],\n",
       "       [-1.96864995]])"
      ]
     },
     "execution_count": 52,
     "metadata": {},
     "output_type": "execute_result"
    }
   ],
   "source": [
    "#Stochastic Gradient Descent\n",
    "eta=0.1 #learning rate\n",
    "n_iterations=1000\n",
    "m=100\n",
    "theta=np.random.randn(2,1) # random initialization\n",
    "for iteration in range(n_iterations):\n",
    "    for i in range(m):\n",
    "        for j in range(len(theta)):\n",
    "            theta[j]=theta[j]-eta*(theta.T.dot(x_bias[i])-y[i])*x_bias[i,j]\n",
    "       \n",
    "    \n",
    "theta"
   ]
  },
  {
   "cell_type": "code",
   "execution_count": 53,
   "metadata": {},
   "outputs": [
    {
     "data": {
      "image/png": "[encoded data removed]",
      "text/plain": [
       "<Figure size 432x288 with 1 Axes>"
      ]
     },
     "metadata": {},
     "output_type": "display_data"
    }
   ],
   "source": [
    "# Part 2: Import of weight function w, bandwidth parameter band.\n",
    "w = [0 for i in range(m)]\n",
    "band = 0.8\n",
    "r = int(np.random.randint(m, size = 1))\n",
    "q = X_bias[r][1]\n",
    "mse = 0\n",
    "\n",
    "for i in range(m):\n",
    "    w[i] = float(np.exp(-(np.power(X_bias[i][1]-q,2))/(2 * band * band)))\n",
    "    mse += (w[i] * np.power(y - y[i], 2))\n",
    "\n",
    "mse = sum(mse)\n",
    "mse = mse / m\n",
    "\n",
    "model = LinearRegression()\n",
    "model.fit(X_bias, y)\n",
    "y_pred = model.predict(X_bias)\n",
    "\n",
    "plot.plot(X_bias[:,1],y,'b.')\n",
    "plot.plot(X_bias[:,1], y_pred, color='r')\n",
    "plot.show()"
   ]
  },
  {
   "cell_type": "code",
   "execution_count": null,
   "metadata": {},
   "outputs": [],
   "source": []
  },
  {
   "cell_type": "code",
   "execution_count": null,
   "metadata": {},
   "outputs": [],
   "source": []
  }
 ],
 "metadata": {
  "kernelspec": {
   "display_name": "Python 3",
   "language": "python",
   "name": "python3"
  },
  "language_info": {
   "codemirror_mode": {
    "name": "ipython",
    "version": 3
   },
   "file_extension": ".py",
   "mimetype": "text/x-python",
   "name": "python",
   "nbconvert_exporter": "python",
   "pygments_lexer": "ipython3",
   "version": "3.6.5"
  }
 },
 "nbformat": 4,
 "nbformat_minor": 2
}
